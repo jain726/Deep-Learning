{
  "nbformat": 4,
  "nbformat_minor": 0,
  "metadata": {
    "colab": {
      "provenance": [],
      "authorship_tag": "ABX9TyNfz+2UAz+CCIByrv4fmjYh",
      "include_colab_link": true
    },
    "kernelspec": {
      "name": "python3",
      "display_name": "Python 3"
    },
    "language_info": {
      "name": "python"
    }
  },
  "cells": [
    {
      "cell_type": "markdown",
      "metadata": {
        "id": "view-in-github",
        "colab_type": "text"
      },
      "source": [
        "<a href=\"https://colab.research.google.com/github/jain726/Deep-Learning/blob/NeuroMorphNet/CNN.ipynb\" target=\"_parent\"><img src=\"https://colab.research.google.com/assets/colab-badge.svg\" alt=\"Open In Colab\"/></a>"
      ]
    },
    {
      "cell_type": "code",
      "execution_count": 19,
      "metadata": {
        "id": "xGu2qIO_UTrD"
      },
      "outputs": [],
      "source": [
        "import torch\n",
        "import torch.nn as nn\n",
        "import torch.nn.functional as F\n",
        "import pandas as pd\n",
        "import matplotlib.pyplot as plt\n",
        "%matplotlib inline\n",
        "from sklearn.preprocessing import StandardScaler, MinMaxScaler\n",
        "from sklearn.model_selection import train_test_split\n",
        "from torch.utils.data import DataLoader\n",
        "from torchvision import datasets, transforms\n",
        "from torchvision.utils import make_grid\n",
        "import numpy as np\n",
        "import cv2\n",
        "import os"
      ]
    },
    {
      "cell_type": "code",
      "source": [
        "class CNNmodel(nn.Module):\n",
        "  def __init__(self):\n",
        "    super().__init__()\n",
        "    self.conv1 = nn.Conv2d(1, 6, 3, 1)\n",
        "    self.conv2 = nn.Conv2d(6, 16, 3 , 1)\n",
        "    self.conv3 = nn.Conv2d(16, 80, 3, 1)\n",
        "\n",
        "    # Fully Connected Layers\n",
        "    self.fc1 = nn.Linear(4*4*80, 120)\n",
        "    self.fc2 = nn.Linear(120, 84)\n",
        "    self.fc3 = nn.Linear(84, 10)\n",
        "\n",
        "  def forward(self, x):\n",
        "    X = F.relu(self.conv1(x))\n",
        "    X = F.max_pool2d(X, 2, 2) # Pooling Layer\n",
        "    X = F.relu(self.conv2(x))\n",
        "    X = F.relu(self.conv3(x))\n",
        "    X = F.max_pool2d(X, 2, 2) # Pooling Layer\n",
        "\n",
        "    # Flatten\n",
        "    X = X.view(-1, 4*4*80)\n",
        "\n",
        "    # Fully Connected Layers\n",
        "    X = F.relu(self.fc1(X))\n",
        "    X = F.relu(self.fc2(X))\n",
        "    X = self.fc3(X)\n",
        "\n",
        "    return F.log_softmax(X, dim = 1)"
      ],
      "metadata": {
        "id": "X25yauSOUVoq"
      },
      "execution_count": 20,
      "outputs": []
    },
    {
      "cell_type": "code",
      "source": [
        "torch.manual_seed(42)\n",
        "model = CNNmodel()"
      ],
      "metadata": {
        "id": "VX5zUEYSVYIi"
      },
      "execution_count": 21,
      "outputs": []
    },
    {
      "cell_type": "code",
      "source": [
        "# Folder paths\n",
        "glioma_path =\n",
        "menin_path =\n",
        "tumor_path =\n",
        "\n",
        "data = []\n",
        "labels = []\n",
        "\n",
        "# Helper to load all images from a folder\n",
        "def load_images_from_folder(folder, label):\n",
        "    for filename in os.listdir(folder):\n",
        "        img_path = os.path.join(folder, filename)\n",
        "        img = cv2.imread(img_path, cv2.IMREAD_GRAYSCALE)\n",
        "        if img is not None:\n",
        "            img = cv2.resize(img, (224, 224))  # Resize to fixed shape\n",
        "            data.append(img)\n",
        "            labels.append(label)\n",
        "\n",
        "# Load images\n",
        "load_images_from_folder(glioma_path, 0)\n",
        "load_images_from_folder(menin_path, 1)\n",
        "load_images_from_folder(tumor_path, 2)"
      ],
      "metadata": {
        "colab": {
          "base_uri": "https://localhost:8080/",
          "height": 106
        },
        "id": "LHE22M4XWJ2b",
        "outputId": "7ee33eea-8376-40c2-f6b7-b149cead0f60"
      },
      "execution_count": 22,
      "outputs": [
        {
          "output_type": "error",
          "ename": "SyntaxError",
          "evalue": "invalid syntax (<ipython-input-22-fde5fe35b21f>, line 2)",
          "traceback": [
            "\u001b[0;36m  File \u001b[0;32m\"<ipython-input-22-fde5fe35b21f>\"\u001b[0;36m, line \u001b[0;32m2\u001b[0m\n\u001b[0;31m    glioma_path =\u001b[0m\n\u001b[0m                  ^\u001b[0m\n\u001b[0;31mSyntaxError\u001b[0m\u001b[0;31m:\u001b[0m invalid syntax\n"
          ]
        }
      ]
    },
    {
      "cell_type": "code",
      "source": [
        "X = np.array(data).reshape(-1, 1, 224, 224)  # Shape: [N, C, H, W] for CNN\n",
        "y = np.array(labels)\n",
        "\n",
        "X_train, X_test, y_train, y_test = train_test_split(X, y, test_size=0.2, random_state=42)"
      ],
      "metadata": {
        "id": "WfeKDy-AYRG0"
      },
      "execution_count": null,
      "outputs": []
    },
    {
      "cell_type": "code",
      "source": [
        "# Loss Function Optimizer\n",
        "criterion = nn.CrossEntropyLoss()\n",
        "optimizer = torch.optim.Adam(model.parameters(), lr = 0.01)"
      ],
      "metadata": {
        "id": "5RT_g9m2VbGC"
      },
      "execution_count": null,
      "outputs": []
    },
    {
      "cell_type": "code",
      "source": [],
      "metadata": {
        "id": "r1omA_8NYT9D"
      },
      "execution_count": null,
      "outputs": []
    }
  ]
}