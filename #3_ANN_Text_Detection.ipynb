{
  "nbformat": 4,
  "nbformat_minor": 0,
  "metadata": {
    "colab": {
      "provenance": [],
      "authorship_tag": "ABX9TyMPHNaVkZYgkFTf5uTcMNFT",
      "include_colab_link": true
    },
    "kernelspec": {
      "name": "python3",
      "display_name": "Python 3"
    },
    "language_info": {
      "name": "python"
    }
  },
  "cells": [
    {
      "cell_type": "markdown",
      "metadata": {
        "id": "view-in-github",
        "colab_type": "text"
      },
      "source": [
        "<a href=\"https://colab.research.google.com/github/jain726/Deep-Learning/blob/Deep-Learning/%233_ANN_Text_Detection.ipynb\" target=\"_parent\"><img src=\"https://colab.research.google.com/assets/colab-badge.svg\" alt=\"Open In Colab\"/></a>"
      ]
    },
    {
      "cell_type": "code",
      "execution_count": 211,
      "metadata": {
        "id": "64yP2DC3dfdn"
      },
      "outputs": [],
      "source": [
        "import torch\n",
        "import torch.nn as nn\n",
        "import torch.nn.functional as F\n",
        "import numpy as np\n",
        "import matplotlib.pyplot as plt\n",
        "%matplotlib inline\n",
        "from sklearn.preprocessing import StandardScaler, MinMaxScaler\n",
        "import pandas as pd\n",
        "from sklearn.model_selection import train_test_split\n",
        "from sklearn.preprocessing import StandardScaler, MinMaxScaler"
      ]
    },
    {
      "cell_type": "code",
      "source": [
        "class Model(nn.Module):\n",
        "    def __init__(self, in_features=1764, h1=512, h2=128, out_features=26):\n",
        "        super().__init__()\n",
        "        self.fc1 = nn.Linear(in_features, h1)\n",
        "        self.fc2 = nn.Linear(h1, h2)\n",
        "        self.out = nn.Linear(h2, out_features)\n",
        "\n",
        "    def forward(self, x):\n",
        "        x = F.relu(self.fc1(x))\n",
        "        x = F.relu(self.fc2(x))\n",
        "        x = self.out(x)\n",
        "        return x\n"
      ],
      "metadata": {
        "id": "JflcJYoveGhI"
      },
      "execution_count": 212,
      "outputs": []
    },
    {
      "cell_type": "code",
      "source": [
        "torch.manual_seed(42)\n",
        "model = Model()"
      ],
      "metadata": {
        "id": "Ci9rbZYh5AFQ"
      },
      "execution_count": 213,
      "outputs": []
    },
    {
      "cell_type": "code",
      "source": [
        "data_link = '/content/hog_output.csv'\n",
        "data = pd.read_csv(data_link)\n",
        "X = data.drop('label', axis = 1).values\n",
        "y = pd.to_numeric(data['label'], errors='coerce')  # convert to numbers, NaN if invalid\n",
        "print(y.isna().sum())  # Debug: check how many labels were invalid\n",
        "\n",
        "y = y.dropna().astype(int)  # remove NaNs and convert to int\n",
        "X = X[:len(y)]  # align X with y\n",
        "X_train, X_test, y_train, y_test = train_test_split(X, y, test_size = 0.2, random_state = 42)"
      ],
      "metadata": {
        "colab": {
          "base_uri": "https://localhost:8080/"
        },
        "id": "og5StXkw5DdY",
        "outputId": "8002994c-33e7-4ab1-e605-1d22a19ddb9d"
      },
      "execution_count": 214,
      "outputs": [
        {
          "output_type": "stream",
          "name": "stdout",
          "text": [
            "0\n"
          ]
        }
      ]
    },
    {
      "cell_type": "code",
      "source": [
        "scaler = StandardScaler()\n",
        "X_train = scaler.fit_transform(X_train)\n",
        "X_test = scaler.transform(X_test)"
      ],
      "metadata": {
        "id": "x--6-Ft16uNj"
      },
      "execution_count": 215,
      "outputs": []
    },
    {
      "cell_type": "code",
      "source": [
        "y_train = torch.LongTensor(np.array(y_train))\n",
        "y_test = torch.LongTensor(np.array(y_test))"
      ],
      "metadata": {
        "id": "qXgFNzNL-EYj"
      },
      "execution_count": 216,
      "outputs": []
    },
    {
      "cell_type": "code",
      "source": [
        "X_train = torch.FloatTensor(X_train)\n",
        "X_test = torch.FloatTensor(X_test)\n",
        "y_train = torch.LongTensor(y_train)\n",
        "y_test = torch.LongTensor(y_test)\n",
        "y_train = y_train - 1\n",
        "y_test = y_test - 1\n",
        "print(torch.unique(y_train))"
      ],
      "metadata": {
        "colab": {
          "base_uri": "https://localhost:8080/"
        },
        "id": "TywM33nj7E4w",
        "outputId": "8ab84252-d68f-42cf-a9bd-bf3d56b3e68c"
      },
      "execution_count": 217,
      "outputs": [
        {
          "output_type": "stream",
          "name": "stdout",
          "text": [
            "tensor([ 0,  1,  2,  3,  4,  5,  6,  7,  8,  9, 10, 11, 12, 13, 14, 15, 16, 17,\n",
            "        18, 19, 20, 21, 22, 23, 24, 25])\n"
          ]
        }
      ]
    },
    {
      "cell_type": "code",
      "source": [
        "criterion = nn.CrossEntropyLoss()\n",
        "optimizer = torch.optim.Adam(model.parameters(), lr=0.01, weight_decay=1e-3)"
      ],
      "metadata": {
        "id": "gvdT4_2H7S9M"
      },
      "execution_count": 218,
      "outputs": []
    },
    {
      "cell_type": "code",
      "source": [
        "epochs = 100\n",
        "losses = []\n",
        "for i in range(epochs):\n",
        "  y_pred = model(X_train)\n",
        "  loss = criterion(y_pred, y_train)\n",
        "  losses.append(loss.item())\n",
        "\n",
        "  if i % 5 == 0:\n",
        "    print(f'Epoch: {i} Loss: {loss.item()}')\n",
        "\n",
        "  optimizer.zero_grad()\n",
        "  loss.backward()\n",
        "  optimizer.step()"
      ],
      "metadata": {
        "colab": {
          "base_uri": "https://localhost:8080/"
        },
        "id": "BPMAgzqo7eVB",
        "outputId": "fc22de42-b6b5-452d-ebfe-5873303b1cf2"
      },
      "execution_count": 219,
      "outputs": [
        {
          "output_type": "stream",
          "name": "stdout",
          "text": [
            "Epoch: 0 Loss: 3.2500152587890625\n",
            "Epoch: 5 Loss: 0.9214610457420349\n",
            "Epoch: 10 Loss: 0.2745412588119507\n",
            "Epoch: 15 Loss: 0.08817165344953537\n",
            "Epoch: 20 Loss: 0.02212410978972912\n",
            "Epoch: 25 Loss: 0.008312313817441463\n",
            "Epoch: 30 Loss: 0.0054447706788778305\n",
            "Epoch: 35 Loss: 0.00625575939193368\n",
            "Epoch: 40 Loss: 0.009956187568604946\n",
            "Epoch: 45 Loss: 0.014290818013250828\n",
            "Epoch: 50 Loss: 0.012504888698458672\n",
            "Epoch: 55 Loss: 0.0070635974407196045\n",
            "Epoch: 60 Loss: 0.00479582604020834\n",
            "Epoch: 65 Loss: 0.004844094160944223\n",
            "Epoch: 70 Loss: 0.005608791019767523\n",
            "Epoch: 75 Loss: 0.005300333257764578\n",
            "Epoch: 80 Loss: 0.004433297552168369\n",
            "Epoch: 85 Loss: 0.004280867986381054\n",
            "Epoch: 90 Loss: 0.004548496566712856\n",
            "Epoch: 95 Loss: 0.00447299238294363\n"
          ]
        }
      ]
    },
    {
      "cell_type": "code",
      "source": [
        "plt.plot(range(epochs), losses)\n",
        "plt.xlabel(\"Epochs\")\n",
        "plt.ylabel(\"Loss\")\n",
        "plt.title(\"Training Loss over Time\")\n",
        "plt.show()"
      ],
      "metadata": {
        "colab": {
          "base_uri": "https://localhost:8080/",
          "height": 472
        },
        "id": "hV3dY56U78dv",
        "outputId": "4b66da02-cc78-498c-81ad-1138138ca71a"
      },
      "execution_count": 220,
      "outputs": [
        {
          "output_type": "display_data",
          "data": {
            "text/plain": [
              "<Figure size 640x480 with 1 Axes>"
            ],
            "image/png": "[encoded data removed]"
          },
          "metadata": {}
        }
      ]
    },
    {
      "cell_type": "code",
      "source": [
        "with torch.no_grad():\n",
        "  y_eval = model(X_test)\n",
        "  loss = criterion(y_eval, y_test)\n",
        "  predicted = torch.argmax(y_eval, dim = 1)\n",
        "  accuracy = (predicted == y_test).float().mean()\n",
        "print(f'Test Loss: {loss.item():.4f}')\n",
        "print(f'Test Accuracy: {accuracy.item() * 100:.2f}%')"
      ],
      "metadata": {
        "colab": {
          "base_uri": "https://localhost:8080/"
        },
        "id": "rTG2x3hX-8Ym",
        "outputId": "d6ae09d2-59d9-4104-8c6a-31f2c413437b"
      },
      "execution_count": 221,
      "outputs": [
        {
          "output_type": "stream",
          "name": "stdout",
          "text": [
            "Test Loss: 0.3144\n",
            "Test Accuracy: 93.28%\n"
          ]
        }
      ]
    },
    {
      "cell_type": "code",
      "source": [],
      "metadata": {
        "id": "tkOe8cPF_T6L"
      },
      "execution_count": 221,
      "outputs": []
    }
  ]
}